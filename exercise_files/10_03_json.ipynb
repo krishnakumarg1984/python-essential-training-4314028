{
 "cells": [
  {
   "cell_type": "code",
   "execution_count": 10,
   "id": "d3f30f14",
   "metadata": {},
   "outputs": [],
   "source": [
    "import json\n",
    "from json import JSONDecodeError, JSONEncoder"
   ]
  },
  {
   "cell_type": "markdown",
   "id": "4c55b8ed",
   "metadata": {},
   "source": [
    "## JSON"
   ]
  },
  {
   "cell_type": "markdown",
   "id": "b5d2a05c",
   "metadata": {},
   "source": [
    "### Loading JSON"
   ]
  },
  {
   "cell_type": "code",
   "execution_count": 6,
   "id": "13b6088d",
   "metadata": {},
   "outputs": [
    {
     "name": "stdout",
     "output_type": "stream",
     "text": [
      "Could not parse JSON!\n"
     ]
    }
   ],
   "source": [
    "jsonString = '{\"a\": \"apple\", \"b\": \"bear\", \"c\": \"cat\",}'\n",
    "try:\n",
    "    json.loads(jsonString)\n",
    "except JSONDecodeError:\n",
    "    print(\"Could not parse JSON!\")"
   ]
  },
  {
   "cell_type": "code",
   "execution_count": 3,
   "id": "bee8d345",
   "metadata": {},
   "outputs": [
    {
     "data": {
      "text/plain": [
       "{'a': 'apple', 'b': 'bear', 'c': 'cat'}"
      ]
     },
     "execution_count": 3,
     "metadata": {},
     "output_type": "execute_result"
    }
   ],
   "source": [
    "{\n",
    "    \"a\": \"apple\",\n",
    "    \"b\": \"bear\",\n",
    "    \"c\": \"cat\",\n",
    "}"
   ]
  },
  {
   "cell_type": "markdown",
   "id": "91d66c40",
   "metadata": {},
   "source": [
    "### Dumping JSON"
   ]
  },
  {
   "cell_type": "code",
   "execution_count": 7,
   "id": "28da99a7",
   "metadata": {
    "lines_to_next_cell": 2
   },
   "outputs": [
    {
     "data": {
      "text/plain": [
       "'{\"a\": \"apple\", \"b\": \"bear\", \"c\": \"cat\"}'"
      ]
     },
     "execution_count": 7,
     "metadata": {},
     "output_type": "execute_result"
    }
   ],
   "source": [
    "pythonDict = {\n",
    "    \"a\": \"apple\",\n",
    "    \"b\": \"bear\",\n",
    "    \"c\": \"cat\",\n",
    "}\n",
    "json.dumps(pythonDict)"
   ]
  },
  {
   "cell_type": "markdown",
   "id": "2cd8bb44",
   "metadata": {
    "lines_to_next_cell": 2
   },
   "source": [
    "### Custom JSON Decoders"
   ]
  },
  {
   "cell_type": "code",
   "execution_count": 11,
   "id": "9559b0f4",
   "metadata": {
    "lines_to_next_cell": 0
   },
   "outputs": [
    {
     "data": {
      "text/plain": [
       "'{\"a\": \"aardvark\", \"b\": \"bear\", \"c\": \"cat\"}'"
      ]
     },
     "execution_count": 11,
     "metadata": {},
     "output_type": "execute_result"
    }
   ],
   "source": [
    "class Animal:\n",
    "    def __init__(self, name):\n",
    "        self.name = name\n",
    "\n",
    "\n",
    "class AnimalEncoder(JSONEncoder):\n",
    "    def default(self, o):\n",
    "        if type(o) == Animal:\n",
    "            return o.name\n",
    "        return super().default(o)\n",
    "\n",
    "\n",
    "pythonDict = {\n",
    "    \"a\": Animal(\"aardvark\"),\n",
    "    \"b\": Animal(\"bear\"),\n",
    "    \"c\": Animal(\"cat\"),\n",
    "}\n",
    "json.dumps(pythonDict, cls=AnimalEncoder)"
   ]
  },
  {
   "cell_type": "code",
   "execution_count": null,
   "id": "56613cee",
   "metadata": {},
   "outputs": [],
   "source": []
  }
 ],
 "metadata": {
  "jupytext": {
   "formats": "ipynb,py"
  },
  "kernelspec": {
   "display_name": "Python 3 (ipykernel)",
   "language": "python",
   "name": "python3"
  },
  "language_info": {
   "codemirror_mode": {
    "name": "ipython",
    "version": 3
   },
   "file_extension": ".py",
   "mimetype": "text/x-python",
   "name": "python",
   "nbconvert_exporter": "python",
   "pygments_lexer": "ipython3",
   "version": "3.10.2"
  }
 },
 "nbformat": 4,
 "nbformat_minor": 5
}
