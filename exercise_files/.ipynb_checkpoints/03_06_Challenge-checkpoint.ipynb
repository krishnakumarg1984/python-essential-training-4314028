{
 "cells": [],
 "metadata": {
  "jupytext": {
   "formats": "ipynb,py"
  }
 },
 "nbformat": 4,
 "nbformat_minor": 5
}
